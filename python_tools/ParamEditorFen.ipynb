{
 "cells": [
  {
   "cell_type": "code",
   "execution_count": 12,
   "metadata": {},
   "outputs": [],
   "source": [
    "#libraries\n",
    "import numpy as np\n",
    "from netCDF4 import Dataset\n",
    "import subprocess\n",
    "from pathlib import Path\n"
   ]
  },
  {
   "cell_type": "code",
   "execution_count": 13,
   "metadata": {},
   "outputs": [],
   "source": [
    "def ParamModify(parfile,pft,parnms,parvals,iscale=False):\n",
    "    \"\"\"\n",
    "    modify parameter parnm of pft on file parfile\n",
    "    \"\"\"\n",
    "    \n",
    "    with Dataset(parfile, 'r+') as nc_file:\n",
    "        variable = nc_file.variables['pfts']\n",
    "        pft_loc=0\n",
    "        for var in variable:\n",
    "            result_string=''\n",
    "            for byte in var:\n",
    "                if byte:\n",
    "                    result_string=''.join([result_string,byte.decode('utf-8')])\n",
    "            #locate the pft       \n",
    "            if result_string.strip()==pft:\n",
    "                #locate the variable\n",
    "                for parnm,parval in zip(parnms,parvals):\n",
    "                    variable1=nc_file.variables[parnm]\n",
    "                    if iscale:\n",
    "                        print(\"%s for %s is %f, and changed to %f\"%(parnm,pft,variable1[pft_loc],parval*variable1[pft_loc]))\n",
    "                        variable1[pft_loc]=parval*variable1[pft_loc]\n",
    "                    else:\n",
    "                        print(\"%s for %s is %f, and changed to %f\"%(parnm,pft,variable1[pft_loc],parval))\n",
    "                        variable1[pft_loc]=parval\n",
    "                break\n",
    "            pft_loc=pft_loc+1\n"
   ]
  },
  {
   "cell_type": "code",
   "execution_count": 51,
   "metadata": {},
   "outputs": [
    {
     "name": "stdout",
     "output_type": "stream",
     "text": [
      "ETMX for sedg62 is 470.000000, and changed to 500.000000\n",
      "SLA1 for sedg62 is 0.010000, and changed to 0.010000\n",
      "PORT for sedg62 is 0.320000, and changed to 0.320000\n",
      "VCMX for sedg62 is 55.000000, and changed to 55.000000\n",
      "ALBP for sedg62 is 0.075000, and changed to 0.075000\n",
      "PTSHT for sedg62 is 0.040000, and changed to 0.040000\n",
      "VRNXI for sedg62 is 720.000000, and changed to 720.000000\n",
      "GROUPX for sedg62 is 5.000000, and changed to 5.000000\n",
      "XRNI for sedg62 is 0.015000, and changed to 0.015000\n",
      "RTFQ for sedg62 is 350.000000, and changed to 350.000000\n",
      "CHL for sedg62 is 0.045000, and changed to 0.045000\n",
      "ZTYPI for sedg62 is 1.000000, and changed to 1.000000\n",
      "PB for sedg62 is 0.050000, and changed to 0.050000\n"
     ]
    }
   ],
   "source": [
    "#how to \n",
    "parfile='/Users/jinyuntang/work/github/EcoSIM/input_data/ecosim_pftpar_20240723.nc'\n",
    "pft='sedg62'\n",
    "parnms=['ETMX','SLA1','PORT','VCMX','ALBP','PTSHT','VRNXI','GROUPX','XRNI','RTFQ','CHL','ZTYPI','PB']\n",
    "parvals=[500,0.010,0.32,55,0.075,0.04,720,5.,0.015,350,0.045,1.0,0.05]\n",
    "#parnms=['GRDM']\n",
    "#parvals=[0.5];\n",
    "#parvals=[400.,0.9]\n",
    "#ParamModify(parfile,pft,parnm,0.8)\n",
    "#parnm='RSRR'\n",
    "#parnm='RSRA'\n",
    "\n",
    "ParamModify(parfile,pft,parnms,parvals,iscale=False)\n"
   ]
  },
  {
   "cell_type": "code",
   "execution_count": null,
   "metadata": {},
   "outputs": [],
   "source": []
  },
  {
   "cell_type": "code",
   "execution_count": null,
   "metadata": {},
   "outputs": [],
   "source": []
  }
 ],
 "metadata": {
  "kernelspec": {
   "display_name": "Python 3 (ipykernel)",
   "language": "python",
   "name": "python3"
  },
  "language_info": {
   "codemirror_mode": {
    "name": "ipython",
    "version": 3
   },
   "file_extension": ".py",
   "mimetype": "text/x-python",
   "name": "python",
   "nbconvert_exporter": "python",
   "pygments_lexer": "ipython3",
   "version": "3.12.2"
  }
 },
 "nbformat": 4,
 "nbformat_minor": 4
}
