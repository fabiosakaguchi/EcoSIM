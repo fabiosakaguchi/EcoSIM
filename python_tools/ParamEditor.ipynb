{
 "cells": [
  {
   "cell_type": "code",
   "execution_count": 20,
   "metadata": {},
   "outputs": [],
   "source": [
    "#libraries\n",
    "import numpy as np\n",
    "from netCDF4 import Dataset\n",
    "import subprocess\n",
    "from pathlib import Path\n"
   ]
  },
  {
   "cell_type": "code",
   "execution_count": 21,
   "metadata": {},
   "outputs": [],
   "source": [
    "def ParamModify(parfile,pft,parnm,parval):\n",
    "    \"\"\"\n",
    "    modify parameter parnm of pft on file parfile\n",
    "    \"\"\"\n",
    "    with Dataset(parfile, 'r+') as nc_file:\n",
    "        variable = nc_file.variables['pfts']\n",
    "        loc=0\n",
    "        for var in variable:\n",
    "            result_string = ''.join(byte.decode('utf-8') for byte in var)\n",
    "            if result_string==pft:                \n",
    "                variable1=nc_file.variables[parnm]\n",
    "                print(\"%s for %s is %f, and changed to %f\"%(parnm,pft,variable1[loc],parval))\n",
    "                variable1[loc]=parval\n",
    "            loc=loc+1\n"
   ]
  },
  {
   "cell_type": "code",
   "execution_count": 23,
   "metadata": {},
   "outputs": [
    {
     "name": "stdout",
     "output_type": "stream",
     "text": [
      "VCMX for ndlf34 is 45.000000, and changed to 80.000000\n"
     ]
    }
   ],
   "source": [
    "#how to \n",
    "parfile='ecosim_pft_20240208.nc'\n",
    "pft='ndlf34'\n",
    "parnm='VCMX'\n",
    "\n",
    "ParamModify(parfile,pft,parnm,80)\n"
   ]
  },
  {
   "cell_type": "code",
   "execution_count": null,
   "metadata": {},
   "outputs": [],
   "source": []
  }
 ],
 "metadata": {
  "kernelspec": {
   "display_name": "Python 3",
   "language": "python",
   "name": "python3"
  },
  "language_info": {
   "codemirror_mode": {
    "name": "ipython",
    "version": 3
   },
   "file_extension": ".py",
   "mimetype": "text/x-python",
   "name": "python",
   "nbconvert_exporter": "python",
   "pygments_lexer": "ipython3",
   "version": "3.8.3"
  }
 },
 "nbformat": 4,
 "nbformat_minor": 4
}
