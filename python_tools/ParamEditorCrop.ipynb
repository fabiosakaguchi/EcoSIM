{
 "cells": [
  {
   "cell_type": "code",
   "execution_count": 2,
   "metadata": {},
   "outputs": [],
   "source": [
    "#libraries\n",
    "import numpy as np\n",
    "from netCDF4 import Dataset\n",
    "import subprocess\n",
    "from pathlib import Path\n"
   ]
  },
  {
   "cell_type": "code",
   "execution_count": 3,
   "metadata": {},
   "outputs": [],
   "source": [
    "def ParamModify(parfile,pft,parnms,parvals,iscale=False):\n",
    "    \"\"\"\n",
    "    modify parameter parnm of pft on file parfile\n",
    "    \"\"\"\n",
    "    \n",
    "    with Dataset(parfile, 'r+') as nc_file:\n",
    "        variable = nc_file.variables['pfts']\n",
    "        pft_loc=0\n",
    "        for var in variable:\n",
    "            result_string=''\n",
    "            for byte in var:\n",
    "                if byte:\n",
    "                    result_string=''.join([result_string,byte.decode('utf-8')])\n",
    "            #locate the pft       \n",
    "            if result_string.strip()==pft:\n",
    "                #locate the variable\n",
    "                for parnm,parval in zip(parnms,parvals):\n",
    "                    variable1=nc_file.variables[parnm]\n",
    "                    if iscale:\n",
    "                        print(\"%s for %s is %f, and changed to %f\"%(parnm,pft,variable1[pft_loc],parval*variable1[pft_loc]))\n",
    "                        variable1[pft_loc]=parval*variable1[pft_loc]\n",
    "                    else:\n",
    "                        print(\"%s for %s is %f, and changed to %f\"%(parnm,pft,variable1[pft_loc],parval))\n",
    "                        variable1[pft_loc]=parval\n",
    "                break\n",
    "            pft_loc=pft_loc+1\n"
   ]
  },
  {
   "cell_type": "code",
   "execution_count": 15,
   "metadata": {},
   "outputs": [
    {
     "name": "stdout",
     "output_type": "stream",
     "text": [
      "ETMX for maiz31 is 400.000000, and changed to 400.000000\n",
      "SLA1 for maiz31 is 0.015000, and changed to 0.015000\n",
      "PORT for maiz31 is 0.200000, and changed to 0.200000\n",
      "VCMX for maiz31 is 60.000000, and changed to 60.000000\n",
      "RSRR for maiz31 is 5000.000000, and changed to 5000.000000\n",
      "RSRA for maiz31 is 10000.000000, and changed to 10000.000000\n",
      "GROUPX for maiz31 is 17.000000, and changed to 17.000000\n",
      "GRDM for maiz31 is 0.150000, and changed to 0.150000\n",
      "UPMXZO for maiz31 is 0.400000, and changed to 0.400000\n",
      "UPMXZH for maiz31 is 0.025000, and changed to 0.025000\n",
      "RUBP for maiz31 is 0.200000, and changed to 0.200000\n",
      "PEPC for maiz31 is 0.120000, and changed to 0.120000\n",
      "VCMX4 for maiz31 is 360.000000, and changed to 360.000000\n",
      "CHL for maiz31 is 0.080000, and changed to 0.080000\n",
      "CHL4 for maiz31 is 0.120000, and changed to 0.120000\n",
      "RTFQ for maiz31 is 100.000000, and changed to 100.000000\n",
      "PR for maiz31 is 0.100000, and changed to 0.100000\n",
      "PTSHT for maiz31 is 0.030000, and changed to 0.030000\n",
      "VCMX for soyb31 is 60.000000, and changed to 60.000000\n",
      "ETMX for soyb31 is 900.000000, and changed to 900.000000\n",
      "RSRR for soyb31 is 5000.000000, and changed to 5000.000000\n",
      "RSRA for soyb31 is 10000.000000, and changed to 10000.000000\n",
      "VRNLI for soyb31 is 24.000000, and changed to 24.000000\n",
      "GRDM for soyb31 is 0.080000, and changed to 0.080000\n",
      "PORT for soyb31 is 0.150000, and changed to 0.150000\n",
      "SLA1 for soyb31 is 0.018000, and changed to 0.018000\n",
      "GROUPX for soyb31 is 18.000000, and changed to 18.000000\n",
      "OSMO for soyb31 is -1.500000, and changed to -1.500000\n",
      "UPMXZO for soyb31 is 0.400000, and changed to 1.000000\n",
      "UPMXZH for soyb31 is 0.030000, and changed to 0.030000\n",
      "RUBP for soyb31 is 0.400000, and changed to 0.400000\n",
      "CHL for soyb31 is 0.100000, and changed to 0.100000\n",
      "RTFQ for soyb31 is 10.000000, and changed to 20.000000\n",
      "PR for soyb31 is 0.100000, and changed to 0.100000\n",
      "PTSHT for soyb31 is 0.030000, and changed to 0.020000\n"
     ]
    }
   ],
   "source": [
    "#how to \n",
    "parfile='/Users/jinyuntang/work/github/EcoSIM/input_data/ecosim_pftpar_20240723.nc'\n",
    "pft='maiz31'\n",
    "parnms=['ETMX','SLA1','PORT','VCMX','RSRR','RSRA','GROUPX','GRDM','UPMXZO','UPMXZH','RUBP','PEPC','VCMX4','CHL','CHL4','RTFQ','PR','PTSHT','RRAD2M','RRAD1M']\n",
    "parvals=[400,0.015,0.2,60,5.e3,10.e3,17.,0.15,4.e-1,2.5e-2,0.2,0.12,360.,0.2*0.4,0.2*0.6,100,0.1,3.e-2]\n",
    "#parnms=['RSRR','RSRA',17.5]\n",
    "#parvals=[10000,500]\n",
    "\n",
    "ParamModify(parfile,pft,parnms,parvals,iscale=False)\n",
    "print('')\n",
    "#ParamModify(parfile,pft,parnm,0.8)\n",
    "#parnm='RSRR'\n",
    "#parnm='RSRA'\n",
    "pft='soyb31'\n",
    "parnms=['VCMX','ETMX','RSRR','RSRA','VRNLI','GRDM','PORT','SLA1','GROUPX','OSMO','UPMXZO','UPMXZH','RUBP','CHL','RTFQ','PR','PTSHT','RRAD2M','RRAD1M']\n",
    "parvals=[60,900,5.e3,10.e3,24,0.08,0.15,0.018,18,-1.5,1.e0,3.e-2,0.4,0.1,20,0.1,2.e-2]\n",
    "\n",
    "ParamModify(parfile,pft,parnms,parvals,iscale=False)\n"
   ]
  },
  {
   "cell_type": "code",
   "execution_count": null,
   "metadata": {},
   "outputs": [],
   "source": []
  },
  {
   "cell_type": "code",
   "execution_count": null,
   "metadata": {},
   "outputs": [],
   "source": []
  }
 ],
 "metadata": {
  "kernelspec": {
   "display_name": "Python 3 (ipykernel)",
   "language": "python",
   "name": "python3"
  },
  "language_info": {
   "codemirror_mode": {
    "name": "ipython",
    "version": 3
   },
   "file_extension": ".py",
   "mimetype": "text/x-python",
   "name": "python",
   "nbconvert_exporter": "python",
   "pygments_lexer": "ipython3",
   "version": "3.12.2"
  }
 },
 "nbformat": 4,
 "nbformat_minor": 4
}
