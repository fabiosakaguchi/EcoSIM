{
 "cells": [
  {
   "cell_type": "code",
   "execution_count": 2,
   "metadata": {},
   "outputs": [],
   "source": [
    "#libraries\n",
    "import numpy as np\n",
    "from netCDF4 import Dataset\n",
    "import subprocess\n",
    "from pathlib import Path\n"
   ]
  },
  {
   "cell_type": "code",
   "execution_count": 3,
   "metadata": {},
   "outputs": [],
   "source": [
    "def ParamModify(parfile,pft,parnms,parvals,iscale=False):\n",
    "    \"\"\"\n",
    "    modify parameter parnm of pft on file parfile\n",
    "    \"\"\"\n",
    "    \n",
    "    with Dataset(parfile, 'r+') as nc_file:\n",
    "        variable = nc_file.variables['pfts']\n",
    "        pft_loc=0\n",
    "        for var in variable:\n",
    "            result_string=''\n",
    "            for byte in var:\n",
    "                if byte:\n",
    "                    result_string=''.join([result_string,byte.decode('utf-8')])\n",
    "            #locate the pft       \n",
    "            if result_string.strip()==pft:\n",
    "                #locate the variable\n",
    "                for parnm,parval in zip(parnms,parvals):\n",
    "                    variable1=nc_file.variables[parnm]\n",
    "                    if iscale:\n",
    "                        print(\"%s for %s is %f, and changed to %f\"%(parnm,pft,variable1[pft_loc],parval*variable1[pft_loc]))\n",
    "                        variable1[pft_loc]=parval*variable1[pft_loc]\n",
    "                    else:\n",
    "                        print(\"%s for %s is %f, and changed to %f\"%(parnm,pft,variable1[pft_loc],parval))\n",
    "                        variable1[pft_loc]=parval\n",
    "                break\n",
    "            pft_loc=pft_loc+1\n"
   ]
  },
  {
   "cell_type": "code",
   "execution_count": 5,
   "metadata": {},
   "outputs": [
    {
     "name": "stdout",
     "output_type": "stream",
     "text": [
      "RSRR for gr3a35 is 5000.000000, and changed to 5000.000000\n",
      "RSRA for gr3a35 is 10000.000000, and changed to 10000.000000\n",
      "CHL for gr3a35 is 0.030000, and changed to 0.030000\n",
      "OSMO for gr3a35 is -1.350000, and changed to -1.350000\n",
      "RSRR for clva35 is 1000.000000, and changed to 1000.000000\n",
      "RSRA for clva35 is 2000.000000, and changed to 2000.000000\n",
      "CHL for clva35 is 0.030000, and changed to 0.030000\n",
      "OSMO for clva35 is -1.350000, and changed to -1.350000\n",
      "ANGSH for clva35 is 45.000000, and changed to 45.000000\n",
      "ANGBR for clva35 is 0.000000, and changed to 0.000000\n",
      "IGTYP for clva35 is 1.000000, and changed to 2.000000\n"
     ]
    }
   ],
   "source": [
    "#how to \n",
    "parfile='/Users/jinyuntang/work/github/EcoSIM/input_data/ecosim_pftpar_20240723.nc'\n",
    "pft='gr3a35'\n",
    "parnms=['RSRR','RSRA','CHL','OSMO']\n",
    "parvals=[5.e3,10.e3,0.03,-1.35]\n",
    "\n",
    "ParamModify(parfile,pft,parnms,parvals,iscale=False)\n",
    "\n",
    "pft='clva35'\n",
    "parnms=['RSRR','RSRA','CHL','OSMO','ANGSH','ANGBR','IGTYP','VCMX']\n",
    "parvals=[1.e3,2.e3,0.03,-1.35,45,0,2]\n",
    "\n",
    "ParamModify(parfile,pft,parnms,parvals,iscale=False)\n"
   ]
  },
  {
   "cell_type": "code",
   "execution_count": null,
   "metadata": {},
   "outputs": [],
   "source": []
  }
 ],
 "metadata": {
  "kernelspec": {
   "display_name": "Python 3 (ipykernel)",
   "language": "python",
   "name": "python3"
  },
  "language_info": {
   "codemirror_mode": {
    "name": "ipython",
    "version": 3
   },
   "file_extension": ".py",
   "mimetype": "text/x-python",
   "name": "python",
   "nbconvert_exporter": "python",
   "pygments_lexer": "ipython3",
   "version": "3.12.2"
  }
 },
 "nbformat": 4,
 "nbformat_minor": 4
}
