{
 "cells": [
  {
   "cell_type": "code",
   "execution_count": 3,
   "metadata": {},
   "outputs": [
    {
     "name": "stdout",
     "output_type": "stream",
     "text": [
      "['gr3s32', 'gr3s35', 'bush31', 'sedg62', 'maiz31', 'lich33', 'jpin43', 'gr3s61', 'shru35', 'brom43', 'lich32', 'alfa43', 'gr3s33', 'busn32', 'clvs35', 'lich61', 'bdlf11', 'gr3a35', 'ndlf43', 'clover', 'soyb31', 'clva35', 'tasp43', 'bdlf43', 'gr3a34', 'bdlf61', 'grass', 'ndlf33', 'ndlf34', 'bdlf32', 'ndlf61', 'oats43', 'bdlf33', 'ndlf35', 'ndlf32', 'busn26', 'busn43', 'bspr62', 'gr3s43', 'moss62', 'gr3s26', 'moss43', 'gr3s62', 'bush32', 'gr4s26', 'sedg61', 'smos61', 'busn31', 'lich62', 'bspr43', 'dfir32', 'maiz33', 'lpin31', 'ndld43', 'bdlw62', 'swhe33', 'soyb33', 'bdln43', 'bdlf31', 'bdln32', 'barl43', 'bdlf62', 'swhe43', 'ndlf31', 'ndlf62', 'bush11', 'moss33', 'bush26', 'woak31', 'moss32', 'bush43', 'mosf43', 'moss61', 'fmos43']\n"
     ]
    }
   ],
   "source": [
    "import os\n",
    "\n",
    "# Specify the directory path\n",
    "directory_path = '/Users/jinyuntang/work/github/ecosim_data/pft'\n",
    "\n",
    "# List the contents of the directory\n",
    "directory_contents = os.listdir(directory_path)\n",
    "\n",
    "# Print or use the list\n",
    "print(directory_contents)\n",
    "\n"
   ]
  },
  {
   "cell_type": "code",
   "execution_count": null,
   "metadata": {},
   "outputs": [],
   "source": []
  }
 ],
 "metadata": {
  "kernelspec": {
   "display_name": "Python 3",
   "language": "python",
   "name": "python3"
  },
  "language_info": {
   "codemirror_mode": {
    "name": "ipython",
    "version": 3
   },
   "file_extension": ".py",
   "mimetype": "text/x-python",
   "name": "python",
   "nbconvert_exporter": "python",
   "pygments_lexer": "ipython3",
   "version": "3.8.3"
  }
 },
 "nbformat": 4,
 "nbformat_minor": 4
}
