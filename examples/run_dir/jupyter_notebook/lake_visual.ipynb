{
 "cells": [
  {
   "cell_type": "code",
   "execution_count": null,
   "metadata": {},
   "outputs": [],
   "source": [
    "#use:\n",
    "#plot output for sample\n",
    "#\n",
    "import netCDF4 as nc\n",
    "import numpy as np\n",
    "import matplotlib.pyplot as plt\n",
    "import VisualLib as VSLib\n"
   ]
  },
  {
   "cell_type": "code",
   "execution_count": null,
   "metadata": {},
   "outputs": [],
   "source": [
    "ncfile='../lake/lake.ecosim.h0.2001-01-02-00000.nc'\n",
    "\n",
    "year0=VSLib.get_hist_yr(ncfile)\n",
    "# Open the NetCDF file\n",
    "nc_file = nc.Dataset(ncfile, 'r')\n",
    "print('year0=%d'%year0)\n",
    "print(\"\\nVariables:\")\n",
    "for var_name in nc_file.variables:\n",
    "    print(var_name)"
   ]
  }
 ],
 "metadata": {
  "kernelspec": {
   "display_name": "Python 3",
   "language": "python",
   "name": "python3"
  },
  "language_info": {
   "codemirror_mode": {
    "name": "ipython",
    "version": 3
   },
   "file_extension": ".py",
   "mimetype": "text/x-python",
   "name": "python",
   "nbconvert_exporter": "python",
   "pygments_lexer": "ipython3",
   "version": "3.8.3"
  }
 },
 "nbformat": 4,
 "nbformat_minor": 4
}
